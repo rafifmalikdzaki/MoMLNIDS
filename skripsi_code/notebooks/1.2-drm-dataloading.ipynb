{
 "cells": [
  {
   "cell_type": "code",
   "execution_count": 1,
   "id": "initial_id",
   "metadata": {
    "ExecuteTime": {
     "end_time": "2024-11-03T13:18:40.204724Z",
     "start_time": "2024-11-03T13:18:37.643481Z"
    },
    "collapsed": true,
    "tags": [
     "DataPrep"
    ]
   },
   "outputs": [],
   "source": [
    "import numpy as np\n",
    "import pandas as pd\n",
    "import csv\n",
    "from torch.utils.data import DataLoader\n",
    "import polars as pl\n",
    "from sklearn.cluster import MiniBatchKMeans\n",
    "from tqdm import tqdm\n",
    "from pathlib import Path"
   ]
  },
  {
   "cell_type": "code",
   "execution_count": 2,
   "id": "c41a81c268790fb9",
   "metadata": {
    "ExecuteTime": {
     "end_time": "2024-11-03T13:18:40.213681Z",
     "start_time": "2024-11-03T13:18:40.209672Z"
    }
   },
   "outputs": [],
   "source": [
    "from skripsi_code.utils.domain_dataset import MultiChunkParquet, MultiChunkDataset\n",
    "from skripsi_code.utils.dataloader import random_split_dataloader"
   ]
  },
  {
   "cell_type": "code",
   "execution_count": 3,
   "id": "59bea68a5f480540",
   "metadata": {
    "ExecuteTime": {
     "end_time": "2024-11-03T13:18:40.342101Z",
     "start_time": "2024-11-03T13:18:40.339255Z"
    }
   },
   "outputs": [],
   "source": [
    "DATA_LIST = [\n",
    "    \"NF-BoT-IoT-v2\",\n",
    "    \"NF-CSE-CIC-IDS2018-v2\",\n",
    "    \"NF-ToN-IoT-v2\",\n",
    "    \"NF-UNSW-NB15-v2\",\n",
    "]"
   ]
  },
  {
   "cell_type": "code",
   "execution_count": 4,
   "id": "b21f85be8626ef56",
   "metadata": {
    "ExecuteTime": {
     "end_time": "2024-11-03T13:18:41.459147Z",
     "start_time": "2024-11-03T13:18:40.395264Z"
    }
   },
   "outputs": [
    {
     "name": "stdout",
     "output_type": "stream",
     "text": [
      "Data directories: ['NF-BoT-IoT-v2', 'NF-CSE-CIC-IDS2018-v2', 'NF-ToN-IoT-v2', 'NF-UNSW-NB15-v2']\n"
     ]
    },
    {
     "name": "stderr",
     "output_type": "stream",
     "text": [
      "Loading NF-BoT-IoT-v2: 100%|██████████| 378/378 [00:00<00:00, 2745.24it/s]\n",
      "Loading NF-CSE-CIC-IDS2018-v2: 100%|██████████| 189/189 [00:00<00:00, 3201.81it/s]\n",
      "Loading NF-ToN-IoT-v2: 100%|██████████| 170/170 [00:00<00:00, 3053.46it/s]\n",
      "Loading NF-UNSW-NB15-v2: 100%|██████████| 24/24 [00:00<00:00, 3277.97it/s]\n"
     ]
    }
   ],
   "source": [
    "DATA_PATH = \"../data/parquet/\"\n",
    "train_data = MultiChunkParquet(\n",
    "    DATA_PATH,\n",
    "    DATA_LIST,\n",
    "    domain=DATA_LIST,\n",
    "    buffer_size=16,\n",
    "    chunk_mode=True,\n",
    "    get_domain=True,\n",
    "    get_cluster=True,\n",
    ")\n",
    "\n",
    "# DATA_PATH = \"../data/interim/\"\n",
    "# train_data = MultiChunkDataset(DATA_PATH, DATA_LIST, domain=DATA_LIST, buffer_size=512, chunk_mode=True)"
   ]
  },
  {
   "cell_type": "code",
   "execution_count": 5,
   "id": "b9c3ca89302f7ce5",
   "metadata": {
    "ExecuteTime": {
     "end_time": "2024-11-03T13:18:41.477324Z",
     "start_time": "2024-11-03T13:18:41.470112Z"
    }
   },
   "outputs": [
    {
     "data": {
      "text/plain": [
       "16"
      ]
     },
     "execution_count": 5,
     "metadata": {},
     "output_type": "execute_result"
    }
   ],
   "source": [
    "len(train_data.buffer)"
   ]
  },
  {
   "cell_type": "code",
   "execution_count": 6,
   "id": "ec3a977b1b363a9f",
   "metadata": {
    "ExecuteTime": {
     "end_time": "2024-11-03T13:18:41.544112Z",
     "start_time": "2024-11-03T13:18:41.538275Z"
    }
   },
   "outputs": [
    {
     "data": {
      "text/plain": [
       "<skripsi_code.utils.domain_dataset.MultiChunkParquet at 0x760f9029fee0>"
      ]
     },
     "execution_count": 6,
     "metadata": {},
     "output_type": "execute_result"
    }
   ],
   "source": [
    "train_data"
   ]
  },
  {
   "cell_type": "code",
   "execution_count": 7,
   "id": "c3adfcfd31cba6cb",
   "metadata": {
    "ExecuteTime": {
     "end_time": "2024-11-03T13:18:41.610603Z",
     "start_time": "2024-11-03T13:18:41.605132Z"
    }
   },
   "outputs": [
    {
     "data": {
      "text/plain": [
       "1.0630395263433456"
      ]
     },
     "execution_count": 7,
     "metadata": {},
     "output_type": "execute_result"
    }
   ],
   "source": [
    "train_data.buffer[0].estimated_size(\"gb\") * 100"
   ]
  },
  {
   "cell_type": "code",
   "execution_count": 8,
   "id": "267f5715ea804eed",
   "metadata": {
    "ExecuteTime": {
     "end_time": "2024-11-03T13:18:41.681941Z",
     "start_time": "2024-11-03T13:18:41.675412Z"
    }
   },
   "outputs": [
    {
     "data": {
      "text/plain": [
       "761"
      ]
     },
     "execution_count": 8,
     "metadata": {},
     "output_type": "execute_result"
    }
   ],
   "source": [
    "len(train_data)"
   ]
  },
  {
   "cell_type": "code",
   "execution_count": 9,
   "id": "59383b157ebc025a",
   "metadata": {
    "ExecuteTime": {
     "end_time": "2024-11-03T13:18:41.807975Z",
     "start_time": "2024-11-03T13:18:41.784680Z"
    }
   },
   "outputs": [
    {
     "data": {
      "text/html": [
       "<div><style>\n",
       ".dataframe > thead > tr,\n",
       ".dataframe > tbody > tr {\n",
       "  text-align: right;\n",
       "  white-space: pre-wrap;\n",
       "}\n",
       "</style>\n",
       "<small>shape: (100_000, 39)</small><table border=\"1\" class=\"dataframe\"><thead><tr><th>PROTOCOL</th><th>L7_PROTO</th><th>IN_BYTES</th><th>IN_PKTS</th><th>OUT_BYTES</th><th>OUT_PKTS</th><th>TCP_FLAGS</th><th>CLIENT_TCP_FLAGS</th><th>SERVER_TCP_FLAGS</th><th>FLOW_DURATION_MILLISECONDS</th><th>DURATION_IN</th><th>DURATION_OUT</th><th>MIN_TTL</th><th>MAX_TTL</th><th>LONGEST_FLOW_PKT</th><th>SHORTEST_FLOW_PKT</th><th>MIN_IP_PKT_LEN</th><th>MAX_IP_PKT_LEN</th><th>SRC_TO_DST_SECOND_BYTES</th><th>DST_TO_SRC_SECOND_BYTES</th><th>RETRANSMITTED_IN_BYTES</th><th>RETRANSMITTED_IN_PKTS</th><th>RETRANSMITTED_OUT_BYTES</th><th>RETRANSMITTED_OUT_PKTS</th><th>SRC_TO_DST_AVG_THROUGHPUT</th><th>DST_TO_SRC_AVG_THROUGHPUT</th><th>NUM_PKTS_UP_TO_128_BYTES</th><th>NUM_PKTS_128_TO_256_BYTES</th><th>NUM_PKTS_256_TO_512_BYTES</th><th>NUM_PKTS_512_TO_1024_BYTES</th><th>NUM_PKTS_1024_TO_1514_BYTES</th><th>TCP_WIN_MAX_IN</th><th>TCP_WIN_MAX_OUT</th><th>ICMP_TYPE</th><th>ICMP_IPV4_TYPE</th><th>DNS_QUERY_ID</th><th>DNS_QUERY_TYPE</th><th>DNS_TTL_ANSWER</th><th>FTP_COMMAND_RET_CODE</th></tr><tr><td>f32</td><td>f32</td><td>f32</td><td>f32</td><td>f32</td><td>f32</td><td>f32</td><td>f32</td><td>f32</td><td>f32</td><td>f32</td><td>f32</td><td>f32</td><td>f32</td><td>f32</td><td>f32</td><td>f32</td><td>f32</td><td>f32</td><td>f32</td><td>f32</td><td>f32</td><td>f32</td><td>f32</td><td>f32</td><td>f32</td><td>f32</td><td>f32</td><td>f32</td><td>f32</td><td>f32</td><td>f32</td><td>f32</td><td>f32</td><td>f32</td><td>f32</td><td>f32</td><td>f32</td><td>f32</td></tr></thead><tbody><tr><td>6.0</td><td>7.0</td><td>140.0</td><td>1.0</td><td>0.0</td><td>0.0</td><td>2.0</td><td>2.0</td><td>0.0</td><td>0.0</td><td>0.0</td><td>0.0</td><td>0.0</td><td>0.0</td><td>140.0</td><td>140.0</td><td>0.0</td><td>140.0</td><td>140.0</td><td>0.0</td><td>0.0</td><td>0.0</td><td>0.0</td><td>0.0</td><td>1.12e6</td><td>0.0</td><td>0.0</td><td>1.0</td><td>0.0</td><td>0.0</td><td>0.0</td><td>512.0</td><td>0.0</td><td>0.0</td><td>0.0</td><td>0.0</td><td>0.0</td><td>0.0</td><td>0.0</td></tr><tr><td>6.0</td><td>7.0</td><td>280.0</td><td>2.0</td><td>0.0</td><td>0.0</td><td>2.0</td><td>2.0</td><td>0.0</td><td>4.294467e6</td><td>500.0</td><td>0.0</td><td>64.0</td><td>64.0</td><td>140.0</td><td>140.0</td><td>0.0</td><td>140.0</td><td>280.0</td><td>0.0</td><td>0.0</td><td>0.0</td><td>0.0</td><td>0.0</td><td>0.0</td><td>0.0</td><td>0.0</td><td>2.0</td><td>0.0</td><td>0.0</td><td>0.0</td><td>512.0</td><td>0.0</td><td>0.0</td><td>0.0</td><td>0.0</td><td>0.0</td><td>0.0</td><td>0.0</td></tr><tr><td>6.0</td><td>7.0</td><td>280.0</td><td>2.0</td><td>0.0</td><td>0.0</td><td>2.0</td><td>2.0</td><td>0.0</td><td>4.29378e6</td><td>1187.0</td><td>0.0</td><td>64.0</td><td>64.0</td><td>140.0</td><td>140.0</td><td>0.0</td><td>140.0</td><td>140140.0</td><td>0.0</td><td>0.0</td><td>0.0</td><td>0.0</td><td>0.0</td><td>1.12e6</td><td>0.0</td><td>0.0</td><td>2.0</td><td>0.0</td><td>0.0</td><td>0.0</td><td>512.0</td><td>0.0</td><td>0.0</td><td>0.0</td><td>0.0</td><td>0.0</td><td>0.0</td><td>0.0</td></tr><tr><td>17.0</td><td>188.0</td><td>56.0</td><td>2.0</td><td>0.0</td><td>0.0</td><td>0.0</td><td>0.0</td><td>0.0</td><td>4.294545e6</td><td>422.0</td><td>0.0</td><td>64.0</td><td>64.0</td><td>28.0</td><td>28.0</td><td>0.0</td><td>28.0</td><td>56.0</td><td>0.0</td><td>0.0</td><td>0.0</td><td>0.0</td><td>0.0</td><td>0.0</td><td>0.0</td><td>2.0</td><td>0.0</td><td>0.0</td><td>0.0</td><td>0.0</td><td>0.0</td><td>0.0</td><td>0.0</td><td>0.0</td><td>0.0</td><td>0.0</td><td>0.0</td><td>0.0</td></tr><tr><td>17.0</td><td>188.0</td><td>56.0</td><td>2.0</td><td>0.0</td><td>0.0</td><td>0.0</td><td>0.0</td><td>0.0</td><td>4.293732e6</td><td>1235.0</td><td>0.0</td><td>64.0</td><td>64.0</td><td>28.0</td><td>28.0</td><td>0.0</td><td>28.0</td><td>2828.0</td><td>0.0</td><td>0.0</td><td>0.0</td><td>0.0</td><td>0.0</td><td>224000.0</td><td>0.0</td><td>2.0</td><td>0.0</td><td>0.0</td><td>0.0</td><td>0.0</td><td>0.0</td><td>0.0</td><td>0.0</td><td>0.0</td><td>0.0</td><td>0.0</td><td>0.0</td><td>0.0</td></tr><tr><td>&hellip;</td><td>&hellip;</td><td>&hellip;</td><td>&hellip;</td><td>&hellip;</td><td>&hellip;</td><td>&hellip;</td><td>&hellip;</td><td>&hellip;</td><td>&hellip;</td><td>&hellip;</td><td>&hellip;</td><td>&hellip;</td><td>&hellip;</td><td>&hellip;</td><td>&hellip;</td><td>&hellip;</td><td>&hellip;</td><td>&hellip;</td><td>&hellip;</td><td>&hellip;</td><td>&hellip;</td><td>&hellip;</td><td>&hellip;</td><td>&hellip;</td><td>&hellip;</td><td>&hellip;</td><td>&hellip;</td><td>&hellip;</td><td>&hellip;</td><td>&hellip;</td><td>&hellip;</td><td>&hellip;</td><td>&hellip;</td><td>&hellip;</td><td>&hellip;</td><td>&hellip;</td><td>&hellip;</td><td>&hellip;</td></tr><tr><td>17.0</td><td>188.0</td><td>84.0</td><td>3.0</td><td>0.0</td><td>0.0</td><td>0.0</td><td>0.0</td><td>0.0</td><td>4.29392e6</td><td>1047.0</td><td>0.0</td><td>64.0</td><td>64.0</td><td>28.0</td><td>28.0</td><td>0.0</td><td>28.0</td><td>5628.0</td><td>0.0</td><td>0.0</td><td>0.0</td><td>0.0</td><td>0.0</td><td>0.0</td><td>0.0</td><td>3.0</td><td>0.0</td><td>0.0</td><td>0.0</td><td>0.0</td><td>0.0</td><td>0.0</td><td>0.0</td><td>0.0</td><td>0.0</td><td>0.0</td><td>0.0</td><td>0.0</td></tr><tr><td>17.0</td><td>188.0</td><td>56.0</td><td>2.0</td><td>0.0</td><td>0.0</td><td>0.0</td><td>0.0</td><td>0.0</td><td>4.29467e6</td><td>297.0</td><td>0.0</td><td>64.0</td><td>64.0</td><td>28.0</td><td>28.0</td><td>0.0</td><td>28.0</td><td>2828.0</td><td>0.0</td><td>0.0</td><td>0.0</td><td>0.0</td><td>0.0</td><td>224000.0</td><td>0.0</td><td>2.0</td><td>0.0</td><td>0.0</td><td>0.0</td><td>0.0</td><td>0.0</td><td>0.0</td><td>0.0</td><td>0.0</td><td>0.0</td><td>0.0</td><td>0.0</td><td>0.0</td></tr><tr><td>6.0</td><td>7.0</td><td>140.0</td><td>1.0</td><td>40.0</td><td>1.0</td><td>22.0</td><td>2.0</td><td>20.0</td><td>4.294951e6</td><td>0.0</td><td>0.0</td><td>0.0</td><td>0.0</td><td>140.0</td><td>40.0</td><td>40.0</td><td>140.0</td><td>140.0</td><td>40.0</td><td>0.0</td><td>0.0</td><td>0.0</td><td>0.0</td><td>1.12e6</td><td>320000.0</td><td>1.0</td><td>1.0</td><td>0.0</td><td>0.0</td><td>0.0</td><td>512.0</td><td>0.0</td><td>0.0</td><td>0.0</td><td>0.0</td><td>0.0</td><td>0.0</td><td>0.0</td></tr><tr><td>17.0</td><td>188.0</td><td>56.0</td><td>2.0</td><td>0.0</td><td>0.0</td><td>0.0</td><td>0.0</td><td>0.0</td><td>4.294529e6</td><td>438.0</td><td>0.0</td><td>64.0</td><td>64.0</td><td>28.0</td><td>28.0</td><td>0.0</td><td>28.0</td><td>56.0</td><td>0.0</td><td>0.0</td><td>0.0</td><td>0.0</td><td>0.0</td><td>0.0</td><td>0.0</td><td>2.0</td><td>0.0</td><td>0.0</td><td>0.0</td><td>0.0</td><td>0.0</td><td>0.0</td><td>0.0</td><td>0.0</td><td>0.0</td><td>0.0</td><td>0.0</td><td>0.0</td></tr><tr><td>17.0</td><td>188.0</td><td>84.0</td><td>3.0</td><td>0.0</td><td>0.0</td><td>0.0</td><td>0.0</td><td>0.0</td><td>4.293827e6</td><td>1140.0</td><td>0.0</td><td>64.0</td><td>64.0</td><td>28.0</td><td>28.0</td><td>0.0</td><td>28.0</td><td>2856.0</td><td>0.0</td><td>0.0</td><td>0.0</td><td>0.0</td><td>0.0</td><td>224000.0</td><td>0.0</td><td>3.0</td><td>0.0</td><td>0.0</td><td>0.0</td><td>0.0</td><td>0.0</td><td>0.0</td><td>0.0</td><td>0.0</td><td>0.0</td><td>0.0</td><td>0.0</td><td>0.0</td></tr></tbody></table></div>"
      ],
      "text/plain": [
       "shape: (100_000, 39)\n",
       "┌──────────┬──────────┬──────────┬─────────┬───┬────────────┬────────────┬────────────┬────────────┐\n",
       "│ PROTOCOL ┆ L7_PROTO ┆ IN_BYTES ┆ IN_PKTS ┆ … ┆ DNS_QUERY_ ┆ DNS_QUERY_ ┆ DNS_TTL_AN ┆ FTP_COMMAN │\n",
       "│ ---      ┆ ---      ┆ ---      ┆ ---     ┆   ┆ ID         ┆ TYPE       ┆ SWER       ┆ D_RET_CODE │\n",
       "│ f32      ┆ f32      ┆ f32      ┆ f32     ┆   ┆ ---        ┆ ---        ┆ ---        ┆ ---        │\n",
       "│          ┆          ┆          ┆         ┆   ┆ f32        ┆ f32        ┆ f32        ┆ f32        │\n",
       "╞══════════╪══════════╪══════════╪═════════╪═══╪════════════╪════════════╪════════════╪════════════╡\n",
       "│ 6.0      ┆ 7.0      ┆ 140.0    ┆ 1.0     ┆ … ┆ 0.0        ┆ 0.0        ┆ 0.0        ┆ 0.0        │\n",
       "│ 6.0      ┆ 7.0      ┆ 280.0    ┆ 2.0     ┆ … ┆ 0.0        ┆ 0.0        ┆ 0.0        ┆ 0.0        │\n",
       "│ 6.0      ┆ 7.0      ┆ 280.0    ┆ 2.0     ┆ … ┆ 0.0        ┆ 0.0        ┆ 0.0        ┆ 0.0        │\n",
       "│ 17.0     ┆ 188.0    ┆ 56.0     ┆ 2.0     ┆ … ┆ 0.0        ┆ 0.0        ┆ 0.0        ┆ 0.0        │\n",
       "│ 17.0     ┆ 188.0    ┆ 56.0     ┆ 2.0     ┆ … ┆ 0.0        ┆ 0.0        ┆ 0.0        ┆ 0.0        │\n",
       "│ …        ┆ …        ┆ …        ┆ …       ┆ … ┆ …          ┆ …          ┆ …          ┆ …          │\n",
       "│ 17.0     ┆ 188.0    ┆ 84.0     ┆ 3.0     ┆ … ┆ 0.0        ┆ 0.0        ┆ 0.0        ┆ 0.0        │\n",
       "│ 17.0     ┆ 188.0    ┆ 56.0     ┆ 2.0     ┆ … ┆ 0.0        ┆ 0.0        ┆ 0.0        ┆ 0.0        │\n",
       "│ 6.0      ┆ 7.0      ┆ 140.0    ┆ 1.0     ┆ … ┆ 0.0        ┆ 0.0        ┆ 0.0        ┆ 0.0        │\n",
       "│ 17.0     ┆ 188.0    ┆ 56.0     ┆ 2.0     ┆ … ┆ 0.0        ┆ 0.0        ┆ 0.0        ┆ 0.0        │\n",
       "│ 17.0     ┆ 188.0    ┆ 84.0     ┆ 3.0     ┆ … ┆ 0.0        ┆ 0.0        ┆ 0.0        ┆ 0.0        │\n",
       "└──────────┴──────────┴──────────┴─────────┴───┴────────────┴────────────┴────────────┴────────────┘"
      ]
     },
     "execution_count": 9,
     "metadata": {},
     "output_type": "execute_result"
    }
   ],
   "source": [
    "import torch\n",
    "\n",
    "train_data.buffer[0].select(pl.nth(range(4, 43))).cast(pl.Float32)"
   ]
  },
  {
   "cell_type": "code",
   "execution_count": 10,
   "id": "45c87dcf976f1c1a",
   "metadata": {
    "ExecuteTime": {
     "end_time": "2024-11-03T13:18:41.884652Z",
     "start_time": "2024-11-03T13:18:41.880297Z"
    }
   },
   "outputs": [],
   "source": [
    "train_data.reload_buffer()"
   ]
  },
  {
   "cell_type": "code",
   "execution_count": 11,
   "id": "adfc5adeb796310",
   "metadata": {
    "ExecuteTime": {
     "end_time": "2024-11-03T13:18:42.015463Z",
     "start_time": "2024-11-03T13:18:41.933364Z"
    }
   },
   "outputs": [
    {
     "data": {
      "text/plain": [
       "[tensor([[ 17., 188.,  84.,  ...,   0.,   0.,   0.],\n",
       "         [  6.,   7., 280.,  ...,   0.,   0.,   0.],\n",
       "         [  6.,   7., 280.,  ...,   0.,   0.,   0.],\n",
       "         ...,\n",
       "         [  6.,   7., 320.,  ...,   0.,   0.,   0.],\n",
       "         [ 17., 188.,  56.,  ...,   0.,   0.,   0.],\n",
       "         [ 17., 188.,  56.,  ...,   0.,   0.,   0.]]),\n",
       " tensor([1, 1, 1,  ..., 1, 1, 1], dtype=torch.int32),\n",
       " array([0, 0, 0, ..., 0, 0, 0]),\n",
       " array([0, 0, 0, ..., 0, 0, 0])]"
      ]
     },
     "execution_count": 11,
     "metadata": {},
     "output_type": "execute_result"
    }
   ],
   "source": [
    "train_data[1]"
   ]
  },
  {
   "cell_type": "code",
   "execution_count": 12,
   "id": "6fa339e9c5c4bcf5",
   "metadata": {
    "ExecuteTime": {
     "end_time": "2024-11-03T13:18:42.085737Z",
     "start_time": "2024-11-03T13:18:42.082259Z"
    }
   },
   "outputs": [],
   "source": [
    "train_dataloader = DataLoader(train_data, batch_size=1, shuffle=False, pin_memory=True)"
   ]
  },
  {
   "cell_type": "code",
   "execution_count": 13,
   "id": "12d9901ef523b84e",
   "metadata": {
    "ExecuteTime": {
     "end_time": "2024-11-03T13:18:42.938583Z",
     "start_time": "2024-11-03T13:18:42.518952Z"
    }
   },
   "outputs": [
    {
     "name": "stdout",
     "output_type": "stream",
     "text": [
      "Feature batch shape: torch.Size([1, 100000, 39])\n",
      "Labels batch shape: torch.Size([1, 100000])\n"
     ]
    }
   ],
   "source": [
    "train_features, train_labels, *misc_labels = next(iter(train_dataloader))\n",
    "print(f\"Feature batch shape: {train_features.size()}\")\n",
    "print(f\"Labels batch shape: {train_labels.size()}\")"
   ]
  },
  {
   "cell_type": "code",
   "execution_count": 14,
   "id": "a07db81317e047db",
   "metadata": {
    "ExecuteTime": {
     "end_time": "2024-11-03T13:18:43.039859Z",
     "start_time": "2024-11-03T13:18:43.033483Z"
    }
   },
   "outputs": [
    {
     "data": {
      "text/plain": [
       "torch.Size([100000, 39])"
      ]
     },
     "execution_count": 14,
     "metadata": {},
     "output_type": "execute_result"
    }
   ],
   "source": [
    "train_features.reshape(-1, 39).size()"
   ]
  },
  {
   "cell_type": "code",
   "execution_count": 15,
   "id": "229a68e177b05111",
   "metadata": {
    "ExecuteTime": {
     "end_time": "2024-11-03T13:18:43.117570Z",
     "start_time": "2024-11-03T13:18:43.107831Z"
    }
   },
   "outputs": [
    {
     "data": {
      "text/plain": [
       "tensor([[  6.,   7., 140.,  ...,   0.,   0.,   0.],\n",
       "        [  6.,   7., 280.,  ...,   0.,   0.,   0.],\n",
       "        [  6.,   7., 280.,  ...,   0.,   0.,   0.],\n",
       "        ...,\n",
       "        [  6.,   7., 140.,  ...,   0.,   0.,   0.],\n",
       "        [ 17., 188.,  56.,  ...,   0.,   0.,   0.],\n",
       "        [ 17., 188.,  84.,  ...,   0.,   0.,   0.]])"
      ]
     },
     "execution_count": 15,
     "metadata": {},
     "output_type": "execute_result"
    }
   ],
   "source": [
    "train_features.reshape(-1, 39)"
   ]
  },
  {
   "cell_type": "code",
   "execution_count": 16,
   "id": "35c0626ea8920b52",
   "metadata": {
    "ExecuteTime": {
     "end_time": "2024-11-03T13:18:43.212509Z",
     "start_time": "2024-11-03T13:18:43.208960Z"
    }
   },
   "outputs": [
    {
     "data": {
      "text/plain": [
       "761"
      ]
     },
     "execution_count": 16,
     "metadata": {},
     "output_type": "execute_result"
    }
   ],
   "source": [
    "len(train_dataloader)"
   ]
  },
  {
   "cell_type": "code",
   "execution_count": 17,
   "id": "fa6e73dc44c316a7",
   "metadata": {
    "ExecuteTime": {
     "end_time": "2024-11-03T13:18:43.266302Z",
     "start_time": "2024-11-03T13:18:43.262583Z"
    }
   },
   "outputs": [],
   "source": [
    "# if __name__ == \"__main__\":\n",
    "#     for X, Y, *misc_labels in tqdm(train_dataloader, total=len(train_dataloader)):\n",
    "#         X = X.to(\"cuda\")\n",
    "#         continue"
   ]
  },
  {
   "cell_type": "code",
   "execution_count": 18,
   "id": "89501a4a73834300",
   "metadata": {
    "ExecuteTime": {
     "end_time": "2024-11-03T13:18:43.432555Z",
     "start_time": "2024-11-03T13:18:43.427436Z"
    }
   },
   "outputs": [
    {
     "data": {
      "text/plain": [
       "tensor([[[  6.,   7., 140.,  ...,   0.,   0.,   0.],\n",
       "         [  6.,   7., 280.,  ...,   0.,   0.,   0.],\n",
       "         [  6.,   7., 280.,  ...,   0.,   0.,   0.],\n",
       "         ...,\n",
       "         [  6.,   7., 140.,  ...,   0.,   0.,   0.],\n",
       "         [ 17., 188.,  56.,  ...,   0.,   0.,   0.],\n",
       "         [ 17., 188.,  84.,  ...,   0.,   0.,   0.]]])"
      ]
     },
     "execution_count": 18,
     "metadata": {},
     "output_type": "execute_result"
    }
   ],
   "source": [
    "train_features"
   ]
  },
  {
   "cell_type": "code",
   "execution_count": 19,
   "id": "407b28e43b67551b",
   "metadata": {
    "ExecuteTime": {
     "end_time": "2024-11-03T13:18:43.483245Z",
     "start_time": "2024-11-03T13:18:43.478441Z"
    }
   },
   "outputs": [],
   "source": [
    "train_dataloader.dataset.reload_buffer()"
   ]
  },
  {
   "cell_type": "code",
   "execution_count": 20,
   "id": "d0406b7e41690c8d",
   "metadata": {
    "ExecuteTime": {
     "end_time": "2024-11-03T13:18:44.603533Z",
     "start_time": "2024-11-03T13:18:43.536205Z"
    }
   },
   "outputs": [
    {
     "name": "stdout",
     "output_type": "stream",
     "text": [
      "Data directories: ['NF-CSE-CIC-IDS2018-v2', 'NF-ToN-IoT-v2', 'NF-UNSW-NB15-v2']\n"
     ]
    },
    {
     "name": "stderr",
     "output_type": "stream",
     "text": [
      "Loading NF-CSE-CIC-IDS2018-v2: 100%|██████████| 189/189 [00:00<00:00, 3012.63it/s]\n",
      "Loading NF-ToN-IoT-v2: 100%|██████████| 170/170 [00:00<00:00, 3452.95it/s]\n",
      "Loading NF-UNSW-NB15-v2: 100%|██████████| 24/24 [00:00<00:00, 3074.63it/s]\n"
     ]
    },
    {
     "name": "stdout",
     "output_type": "stream",
     "text": [
      "Data directories: ['NF-BoT-IoT-v2']\n"
     ]
    },
    {
     "name": "stderr",
     "output_type": "stream",
     "text": [
      "Loading NF-BoT-IoT-v2: 100%|██████████| 378/378 [00:00<00:00, 3455.16it/s]\n"
     ]
    },
    {
     "name": "stdout",
     "output_type": "stream",
     "text": [
      "Train: 364, Val: 19, Test: 378\n"
     ]
    }
   ],
   "source": [
    "source_domain = DATA_LIST[1:]\n",
    "target_domain = DATA_LIST[0]\n",
    "DATA_PATH = \"../data/interim/\"\n",
    "DATA_PATH = \"../data/parquet/\"\n",
    "\n",
    "train, val, test = random_split_dataloader(\n",
    "    dir_path=DATA_PATH,\n",
    "    source_dir=source_domain,\n",
    "    target_dir=target_domain,\n",
    "    source_domain=source_domain,\n",
    "    target_domain=target_domain,\n",
    "    batch_size=1,\n",
    "    n_workers=0,\n",
    ")"
   ]
  },
  {
   "cell_type": "code",
   "execution_count": 21,
   "id": "b3544edfa7e9173b",
   "metadata": {
    "ExecuteTime": {
     "end_time": "2024-11-03T13:18:44.657295Z",
     "start_time": "2024-11-03T13:18:44.613606Z"
    }
   },
   "outputs": [
    {
     "name": "stdout",
     "output_type": "stream",
     "text": [
      "Feature batch shape: torch.Size([1, 100000, 39])\n",
      "Labels batch shape: torch.Size([1, 100000])\n"
     ]
    }
   ],
   "source": [
    "train_features, train_labels, *train_misc_labels = next(iter(train))\n",
    "print(f\"Feature batch shape: {train_features.size()}\")\n",
    "print(f\"Labels batch shape: {train_labels.size()}\")"
   ]
  },
  {
   "cell_type": "code",
   "execution_count": 22,
   "id": "877947a94880eb8",
   "metadata": {
    "ExecuteTime": {
     "end_time": "2024-11-03T13:18:44.742600Z",
     "start_time": "2024-11-03T13:18:44.694531Z"
    }
   },
   "outputs": [
    {
     "name": "stdout",
     "output_type": "stream",
     "text": [
      "Feature batch shape: torch.Size([1, 100000, 39])\n",
      "Labels batch shape: torch.Size([1, 100000])\n"
     ]
    }
   ],
   "source": [
    "val_features, val_labels, *val_misc_labels = next(iter(val))\n",
    "print(f\"Feature batch shape: {val_features.size()}\")\n",
    "print(f\"Labels batch shape: {val_labels.size()}\")"
   ]
  },
  {
   "cell_type": "code",
   "execution_count": 23,
   "id": "3416d42c8e7a401b",
   "metadata": {
    "ExecuteTime": {
     "end_time": "2024-11-03T13:18:44.829943Z",
     "start_time": "2024-11-03T13:18:44.782289Z"
    }
   },
   "outputs": [
    {
     "name": "stdout",
     "output_type": "stream",
     "text": [
      "Feature batch shape: torch.Size([1, 100000, 39])\n",
      "Labels batch shape: torch.Size([1, 100000])\n"
     ]
    }
   ],
   "source": [
    "test_features, test_labels, *test_misc_labels = next(iter(test))\n",
    "print(f\"Feature batch shape: {test_features.size()}\")\n",
    "print(f\"Labels batch shape: {test_labels.size()}\")"
   ]
  },
  {
   "cell_type": "code",
   "execution_count": 24,
   "id": "7e5915c228d11527",
   "metadata": {
    "ExecuteTime": {
     "end_time": "2024-11-03T13:18:44.869573Z",
     "start_time": "2024-11-03T13:18:44.865893Z"
    }
   },
   "outputs": [],
   "source": [
    "# if __name__ == \"__main__\":\n",
    "#     for X, Y, *misc_labels in tqdm(train, total=len(train)):\n",
    "#         X = X.to(\"cuda\")\n",
    "#         continue\n",
    "#     for X, Y, *misc_labels in tqdm(val, total=len(val)):\n",
    "#         X = X.to(\"cuda\")\n",
    "#         continue\n",
    "#     for X, Y, *misc_labels in tqdm(test, total=len(test)):\n",
    "#         X = X.to(\"cuda\")\n",
    "#         continue"
   ]
  },
  {
   "cell_type": "code",
   "execution_count": 25,
   "id": "59f2dc5a1e4b135d",
   "metadata": {
    "ExecuteTime": {
     "end_time": "2024-11-03T13:18:44.926950Z",
     "start_time": "2024-11-03T13:18:44.920248Z"
    }
   },
   "outputs": [
    {
     "data": {
      "text/plain": [
       "<skripsi_code.utils.domain_dataset.MultiChunkParquet at 0x760f5ff1bcd0>"
      ]
     },
     "execution_count": 25,
     "metadata": {},
     "output_type": "execute_result"
    }
   ],
   "source": [
    "train.dataset.dataset"
   ]
  },
  {
   "cell_type": "code",
   "execution_count": 26,
   "id": "c3c8686e85b1d60a",
   "metadata": {
    "ExecuteTime": {
     "end_time": "2024-11-03T13:18:45.059009Z",
     "start_time": "2024-11-03T13:18:44.985120Z"
    }
   },
   "outputs": [
    {
     "ename": "IndexError",
     "evalue": "Dimension out of range (expected to be in range of [-1, 0], but got 1)",
     "output_type": "error",
     "traceback": [
      "\u001b[0;31m---------------------------------------------------------------------------\u001b[0m",
      "\u001b[0;31mIndexError\u001b[0m                                Traceback (most recent call last)",
      "Cell \u001b[0;32mIn[26], line 5\u001b[0m\n\u001b[1;32m      2\u001b[0m \u001b[38;5;28;01mfrom\u001b[39;00m \u001b[38;5;21;01mtorchsummary\u001b[39;00m \u001b[38;5;28;01mimport\u001b[39;00m summary\n\u001b[1;32m      3\u001b[0m x \u001b[38;5;241m=\u001b[39m torch\u001b[38;5;241m.\u001b[39mrandn(\u001b[38;5;241m1000\u001b[39m, )\u001b[38;5;241m.\u001b[39mto(\u001b[38;5;124m\"\u001b[39m\u001b[38;5;124mcuda\u001b[39m\u001b[38;5;124m\"\u001b[39m)  \u001b[38;5;66;03m# Batch of 5, input size of 20\u001b[39;00m\n\u001b[1;32m      4\u001b[0m network \u001b[38;5;241m=\u001b[39m MoMLDNIDS(\n\u001b[0;32m----> 5\u001b[0m     input_nodes\u001b[38;5;241m=\u001b[39m\u001b[43mx\u001b[49m\u001b[38;5;241;43m.\u001b[39;49m\u001b[43msize\u001b[49m\u001b[43m(\u001b[49m\u001b[43mdim\u001b[49m\u001b[38;5;241;43m=\u001b[39;49m\u001b[38;5;241;43m1\u001b[39;49m\u001b[43m)\u001b[49m, hidden_nodes\u001b[38;5;241m=\u001b[39m[\u001b[38;5;241m64\u001b[39m, \u001b[38;5;241m32\u001b[39m, \u001b[38;5;241m16\u001b[39m], num_domains\u001b[38;5;241m=\u001b[39m\u001b[38;5;241m3\u001b[39m, num_class\u001b[38;5;241m=\u001b[39m\u001b[38;5;241m2\u001b[39m\n\u001b[1;32m      6\u001b[0m )\u001b[38;5;241m.\u001b[39mto(\u001b[38;5;124m\"\u001b[39m\u001b[38;5;124mcuda\u001b[39m\u001b[38;5;124m\"\u001b[39m)\n\u001b[1;32m      7\u001b[0m \u001b[38;5;28mprint\u001b[39m(network)\n\u001b[1;32m      8\u001b[0m \u001b[38;5;28mprint\u001b[39m(network(x))\n",
      "\u001b[0;31mIndexError\u001b[0m: Dimension out of range (expected to be in range of [-1, 0], but got 1)"
     ]
    }
   ],
   "source": [
    "from skripsi_code.model.MoMLNIDS import MoMLDNIDS\n",
    "from torchsummary import summary\n",
    "\n",
    "x = torch.randn(1000, 43).to(\"cuda\")  # Batch of 5, input size of 20\n",
    "network = MoMLDNIDS(\n",
    "    input_nodes=x.size(dim=1), hidden_nodes=[64, 32, 16], num_domains=3, num_class=2\n",
    ").to(\"cuda\")\n",
    "print(network)\n",
    "print(network(x))\n",
    "summary(network, (x.size(dim=1),))"
   ]
  },
  {
   "cell_type": "code",
   "execution_count": 27,
   "id": "b0c5e2ef2638f485",
   "metadata": {
    "ExecuteTime": {
     "end_time": "2024-11-03T13:18:45.083079910Z",
     "start_time": "2024-11-03T13:14:45.453722Z"
    }
   },
   "outputs": [
    {
     "data": {
      "text/plain": [
       "array([0, 0, 0, ..., 0, 0, 0])"
      ]
     },
     "execution_count": 27,
     "metadata": {},
     "output_type": "execute_result"
    }
   ],
   "source": [
    "train.dataset.dataset.cluster_label"
   ]
  },
  {
   "cell_type": "code",
   "execution_count": 28,
   "id": "4f8d5ee2b50d7ff6",
   "metadata": {
    "ExecuteTime": {
     "end_time": "2024-11-03T13:18:45.083448952Z",
     "start_time": "2024-11-03T13:14:45.501561Z"
    }
   },
   "outputs": [],
   "source": [
    "import skripsi_code.clustering"
   ]
  },
  {
   "cell_type": "code",
   "execution_count": 29,
   "id": "403b87979cf7f3e6",
   "metadata": {
    "ExecuteTime": {
     "end_time": "2024-11-03T13:18:45.083579880Z",
     "start_time": "2024-11-03T13:14:45.550111Z"
    }
   },
   "outputs": [],
   "source": [
    "from skripsi_code.clustering import cluster_utils"
   ]
  },
  {
   "cell_type": "code",
   "execution_count": 31,
   "id": "118d4dec07cebda7",
   "metadata": {
    "ExecuteTime": {
     "end_time": "2024-11-03T13:18:45.083674045Z",
     "start_time": "2024-11-03T13:16:53.146257Z"
    }
   },
   "outputs": [
    {
     "name": "stdout",
     "output_type": "stream",
     "text": [
      "(100000, 32)\n"
     ]
    },
    {
     "ename": "TypeError",
     "evalue": "'int' object is not callable",
     "output_type": "error",
     "traceback": [
      "\u001b[0;31m---------------------------------------------------------------------------\u001b[0m",
      "\u001b[0;31mTypeError\u001b[0m                                 Traceback (most recent call last)",
      "Cell \u001b[0;32mIn[31], line 4\u001b[0m\n\u001b[1;32m      1\u001b[0m \u001b[38;5;28;01mfrom\u001b[39;00m \u001b[38;5;21;01mskripsi_code\u001b[39;00m\u001b[38;5;21;01m.\u001b[39;00m\u001b[38;5;21;01mclustering\u001b[39;00m\u001b[38;5;21;01m.\u001b[39;00m\u001b[38;5;21;01mcluster_utils\u001b[39;00m \u001b[38;5;28;01mimport\u001b[39;00m pseudolabeling\n\u001b[1;32m      3\u001b[0m source_data \u001b[38;5;241m=\u001b[39m train\u001b[38;5;241m.\u001b[39mdataset\u001b[38;5;241m.\u001b[39mdataset\n\u001b[0;32m----> 4\u001b[0m pseudo_domain_label \u001b[38;5;241m=\u001b[39m \u001b[43mpseudolabeling\u001b[49m\u001b[43m(\u001b[49m\n\u001b[1;32m      5\u001b[0m \u001b[43m    \u001b[49m\u001b[43mdataset\u001b[49m\u001b[38;5;241;43m=\u001b[39;49m\u001b[43msource_data\u001b[49m\u001b[43m,\u001b[49m\n\u001b[1;32m      6\u001b[0m \u001b[43m    \u001b[49m\u001b[43mmodel\u001b[49m\u001b[38;5;241;43m=\u001b[39;49m\u001b[43mnetwork\u001b[49m\u001b[43m,\u001b[49m\n\u001b[1;32m      7\u001b[0m \u001b[43m    \u001b[49m\u001b[43mdevice\u001b[49m\u001b[38;5;241;43m=\u001b[39;49m\u001b[38;5;124;43m'\u001b[39;49m\u001b[38;5;124;43mcuda\u001b[39;49m\u001b[38;5;124;43m'\u001b[39;49m\u001b[43m,\u001b[49m\n\u001b[1;32m      8\u001b[0m \u001b[43m    \u001b[49m\u001b[43mprevious_cluster\u001b[49m\u001b[38;5;241;43m=\u001b[39;49m\u001b[43msource_data\u001b[49m\u001b[38;5;241;43m.\u001b[39;49m\u001b[43mcluster_label\u001b[49m\u001b[43m,\u001b[49m\n\u001b[1;32m      9\u001b[0m \u001b[43m    \u001b[49m\u001b[43mlog_file\u001b[49m\u001b[38;5;241;43m=\u001b[39;49m\u001b[38;5;124;43m\"\u001b[39;49m\u001b[38;5;124;43mclustering.txt\u001b[39;49m\u001b[38;5;124;43m\"\u001b[39;49m\u001b[43m,\u001b[49m\n\u001b[1;32m     10\u001b[0m \u001b[43m    \u001b[49m\u001b[43mepoch\u001b[49m\u001b[38;5;241;43m=\u001b[39;49m\u001b[38;5;241;43m1\u001b[39;49m\u001b[43m,\u001b[49m\n\u001b[1;32m     11\u001b[0m \u001b[43m    \u001b[49m\u001b[43mn_clusters\u001b[49m\u001b[38;5;241;43m=\u001b[39;49m\u001b[38;5;241;43m3\u001b[39;49m\u001b[43m,\u001b[49m\n\u001b[1;32m     12\u001b[0m \u001b[43m    \u001b[49m\u001b[43mmethod\u001b[49m\u001b[38;5;241;43m=\u001b[39;49m\u001b[38;5;124;43m\"\u001b[39;49m\u001b[38;5;124;43mMiniK\u001b[39;49m\u001b[38;5;124;43m\"\u001b[39;49m\u001b[43m,\u001b[49m\n\u001b[1;32m     13\u001b[0m \u001b[43m    \u001b[49m\u001b[43mdata_reduction\u001b[49m\u001b[38;5;241;43m=\u001b[39;49m\u001b[38;5;28;43;01mTrue\u001b[39;49;00m\u001b[43m,\u001b[49m\u001b[43m \u001b[49m\n\u001b[1;32m     14\u001b[0m \u001b[43m    \u001b[49m\u001b[43mreduced_dimentions\u001b[49m\u001b[38;5;241;43m=\u001b[39;49m\u001b[38;5;241;43m48\u001b[39;49m\u001b[43m,\u001b[49m\n\u001b[1;32m     15\u001b[0m \u001b[43m    \u001b[49m\u001b[43mbatch_size\u001b[49m\u001b[38;5;241;43m=\u001b[39;49m\u001b[38;5;241;43m1\u001b[39;49m\n\u001b[1;32m     16\u001b[0m \u001b[43m)\u001b[49m\n",
      "File \u001b[0;32m~/Research/skripsi_code/skripsi_code/clustering/cluster_utils.py:130\u001b[0m, in \u001b[0;36mpseudolabeling\u001b[0;34m(dataset, model, device, previous_cluster, log_file, epoch, n_clusters, method, data_reduction, reduced_dimentions, batch_size, num_workers, whitening, L2norm)\u001b[0m\n\u001b[1;32m    122\u001b[0m cluster_object \u001b[38;5;241m=\u001b[39m cluster_methods\u001b[38;5;241m.\u001b[39m\u001b[38;5;18m__dict__\u001b[39m[method](\n\u001b[1;32m    123\u001b[0m     n_clusters, reduced_dimentions, whitening, L2norm\n\u001b[1;32m    124\u001b[0m )\n\u001b[1;32m    126\u001b[0m dataloader \u001b[38;5;241m=\u001b[39m DataLoader(\n\u001b[1;32m    127\u001b[0m     dataset, batch_size\u001b[38;5;241m=\u001b[39mbatch_size, shuffle\u001b[38;5;241m=\u001b[39m\u001b[38;5;28;01mFalse\u001b[39;00m, num_workers\u001b[38;5;241m=\u001b[39mnum_workers\n\u001b[1;32m    128\u001b[0m )\n\u001b[0;32m--> 130\u001b[0m features \u001b[38;5;241m=\u001b[39m \u001b[43mcompute_statistics\u001b[49m\u001b[43m(\u001b[49m\u001b[43mdataloader\u001b[49m\u001b[43m,\u001b[49m\u001b[43m \u001b[49m\u001b[43mmodel\u001b[49m\u001b[43m,\u001b[49m\u001b[43m \u001b[49m\u001b[38;5;28;43mlen\u001b[39;49m\u001b[43m(\u001b[49m\u001b[43mdataset\u001b[49m\u001b[43m)\u001b[49m\u001b[43m,\u001b[49m\u001b[43m \u001b[49m\u001b[43mdevice\u001b[49m\u001b[43m)\u001b[49m\n\u001b[1;32m    132\u001b[0m cluster_object\u001b[38;5;241m.\u001b[39mcluster(data\u001b[38;5;241m=\u001b[39mfeatures, data_reduction\u001b[38;5;241m=\u001b[39mdata_reduction, verbose\u001b[38;5;241m=\u001b[39m\u001b[38;5;28;01mFalse\u001b[39;00m)\n\u001b[1;32m    133\u001b[0m cluster_arrangement \u001b[38;5;241m=\u001b[39m cluster_arrange(cluster_object\u001b[38;5;241m.\u001b[39mcluster_lists)\n",
      "File \u001b[0;32m~/Research/skripsi_code/skripsi_code/clustering/cluster_utils.py:63\u001b[0m, in \u001b[0;36mcompute_statistics\u001b[0;34m(dataloader, model, N, device)\u001b[0m\n\u001b[1;32m     60\u001b[0m \u001b[38;5;28mprint\u001b[39m(features_extracted[\u001b[38;5;241m0\u001b[39m]\u001b[38;5;241m.\u001b[39mshape)\n\u001b[1;32m     62\u001b[0m \u001b[38;5;28;01mfor\u001b[39;00m layer_idx, layer_features \u001b[38;5;129;01min\u001b[39;00m \u001b[38;5;28menumerate\u001b[39m(features_extracted):\n\u001b[0;32m---> 63\u001b[0m     mean, standard_deviation \u001b[38;5;241m=\u001b[39m \u001b[43mmean_std_parameters\u001b[49m\u001b[43m(\u001b[49m\u001b[43mlayer_features\u001b[49m\u001b[43m)\u001b[49m\n\u001b[1;32m     65\u001b[0m     \u001b[38;5;28;01mif\u001b[39;00m layer_idx \u001b[38;5;241m==\u001b[39m \u001b[38;5;241m0\u001b[39m:\n\u001b[1;32m     66\u001b[0m         auxilary \u001b[38;5;241m=\u001b[39m torch\u001b[38;5;241m.\u001b[39mcat((mean, standard_deviation), dim\u001b[38;5;241m=\u001b[39m\u001b[38;5;241m1\u001b[39m)\u001b[38;5;241m.\u001b[39mnumpy(\n\u001b[1;32m     67\u001b[0m             force\u001b[38;5;241m=\u001b[39m\u001b[38;5;28;01mTrue\u001b[39;00m\n\u001b[1;32m     68\u001b[0m         )\n",
      "File \u001b[0;32m~/Research/skripsi_code/skripsi_code/clustering/cluster_utils.py:13\u001b[0m, in \u001b[0;36mmean_std_parameters\u001b[0;34m(features, epsilon)\u001b[0m\n\u001b[1;32m     12\u001b[0m \u001b[38;5;28;01mdef\u001b[39;00m \u001b[38;5;21mmean_std_parameters\u001b[39m(features: Tensor, epsilon: \u001b[38;5;28mfloat\u001b[39m \u001b[38;5;241m=\u001b[39m \u001b[38;5;241m1e-5\u001b[39m) \u001b[38;5;241m-\u001b[39m\u001b[38;5;241m>\u001b[39m Tensor:\n\u001b[0;32m---> 13\u001b[0m     size: \u001b[38;5;28mint\u001b[39m \u001b[38;5;241m=\u001b[39m \u001b[43mfeatures\u001b[49m\u001b[38;5;241;43m.\u001b[39;49m\u001b[43msize\u001b[49m\u001b[43m(\u001b[49m\u001b[43m)\u001b[49m\n\u001b[1;32m     15\u001b[0m     \u001b[38;5;66;03m# N: Batch size/samples, C: Number of dimentions\u001b[39;00m\n\u001b[1;32m     16\u001b[0m     \u001b[38;5;28;01massert\u001b[39;00m \u001b[38;5;28mlen\u001b[39m(size) \u001b[38;5;241m==\u001b[39m \u001b[38;5;241m2\u001b[39m\n",
      "\u001b[0;31mTypeError\u001b[0m: 'int' object is not callable"
     ]
    }
   ],
   "source": [
    "from skripsi_code.clustering.cluster_utils import pseudolabeling\n",
    "\n",
    "source_data = train.dataset.dataset\n",
    "pseudo_domain_label = pseudolabeling(\n",
    "    dataset=source_data,\n",
    "    model=network,\n",
    "    device=\"cuda\",\n",
    "    previous_cluster=source_data.cluster_label,\n",
    "    log_file=\"clustering.txt\",\n",
    "    epoch=1,\n",
    "    n_clusters=3,\n",
    "    method=\"MiniK\",\n",
    "    data_reduction=False,\n",
    "    reduced_dimentions=48,\n",
    "    batch_size=1,\n",
    ")"
   ]
  }
 ],
 "metadata": {
  "kernelspec": {
   "display_name": "Python 3",
   "language": "python",
   "name": "python3"
  },
  "language_info": {
   "codemirror_mode": {
    "name": "ipython",
    "version": 2
   },
   "file_extension": ".py",
   "mimetype": "text/x-python",
   "name": "python",
   "nbconvert_exporter": "python",
   "pygments_lexer": "ipython2",
   "version": "2.7.6"
  }
 },
 "nbformat": 4,
 "nbformat_minor": 5
}
