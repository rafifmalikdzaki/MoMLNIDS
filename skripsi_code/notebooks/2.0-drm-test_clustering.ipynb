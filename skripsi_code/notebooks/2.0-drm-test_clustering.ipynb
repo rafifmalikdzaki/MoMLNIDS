{
 "cells": [
  {
   "cell_type": "code",
   "id": "initial_id",
   "metadata": {
    "collapsed": true,
    "tags": [
     "DataPrep"
    ],
    "ExecuteTime": {
     "end_time": "2024-11-03T17:20:13.761261Z",
     "start_time": "2024-11-03T17:20:13.758272Z"
    }
   },
   "source": [
    "import numpy as np\n",
    "import pandas as pd\n",
    "import csv\n",
    "from torch.utils.data import DataLoader\n",
    "import polars as pl\n",
    "from sklearn.cluster import MiniBatchKMeans\n",
    "from tqdm import tqdm\n",
    "from pathlib import Path\n",
    "import torch"
   ],
   "outputs": [],
   "execution_count": 36
  },
  {
   "cell_type": "code",
   "id": "c41a81c268790fb9",
   "metadata": {
    "ExecuteTime": {
     "end_time": "2024-11-03T17:20:14.068494Z",
     "start_time": "2024-11-03T17:20:14.065750Z"
    }
   },
   "source": [
    "from skripsi_code.utils.domain_dataset import MultiChunkParquet, MultiChunkDataset\n",
    "from skripsi_code.utils.dataloader import random_split_dataloader"
   ],
   "outputs": [],
   "execution_count": 37
  },
  {
   "cell_type": "code",
   "id": "59bea68a5f480540",
   "metadata": {
    "ExecuteTime": {
     "end_time": "2024-11-03T17:20:14.436863Z",
     "start_time": "2024-11-03T17:20:14.434117Z"
    }
   },
   "source": [
    "DATA_LIST = [\n",
    "    \"NF-BoT-IoT-v2\",\n",
    "    \"NF-CSE-CIC-IDS2018-v2\",\n",
    "    \"NF-ToN-IoT-v2\",\n",
    "    \"NF-UNSW-NB15-v2\",\n",
    "]"
   ],
   "outputs": [],
   "execution_count": 38
  },
  {
   "cell_type": "code",
   "id": "d0406b7e41690c8d",
   "metadata": {
    "ExecuteTime": {
     "end_time": "2024-11-03T17:20:17.794063Z",
     "start_time": "2024-11-03T17:20:14.817712Z"
    }
   },
   "source": [
    "source_domain = DATA_LIST[1:]\n",
    "target_domain = DATA_LIST[0]\n",
    "DATA_PATH = \"../data/parquet/\"\n",
    "\n",
    "train, val, test = random_split_dataloader(\n",
    "    dir_path=DATA_PATH,\n",
    "    source_dir=source_domain,\n",
    "    target_dir=target_domain,\n",
    "    source_domain=source_domain,\n",
    "    target_domain=target_domain,\n",
    "    batch_size=1,\n",
    "    n_workers=0,\n",
    ")"
   ],
   "outputs": [
    {
     "name": "stdout",
     "output_type": "stream",
     "text": [
      "Data directories: ['NF-CSE-CIC-IDS2018-v2', 'NF-ToN-IoT-v2', 'NF-UNSW-NB15-v2']\n"
     ]
    },
    {
     "name": "stderr",
     "output_type": "stream",
     "text": [
      "Loading NF-CSE-CIC-IDS2018-v2: 100%|██████████| 187/187 [00:00<00:00, 5022.09it/s]\n",
      "Loading NF-ToN-IoT-v2: 100%|██████████| 169/169 [00:00<00:00, 5507.03it/s]\n",
      "Loading NF-UNSW-NB15-v2: 100%|██████████| 23/23 [00:00<00:00, 4736.77it/s]\n"
     ]
    },
    {
     "name": "stdout",
     "output_type": "stream",
     "text": [
      "Data directories: ['NF-BoT-IoT-v2']\n"
     ]
    },
    {
     "name": "stderr",
     "output_type": "stream",
     "text": [
      "Loading NF-BoT-IoT-v2: 100%|██████████| 377/377 [00:00<00:00, 5252.18it/s]\n"
     ]
    },
    {
     "name": "stdout",
     "output_type": "stream",
     "text": [
      "Train: 361, Val: 18, Test: 377\n"
     ]
    }
   ],
   "execution_count": 39
  },
  {
   "cell_type": "code",
   "id": "b3544edfa7e9173b",
   "metadata": {
    "ExecuteTime": {
     "end_time": "2024-11-03T17:20:17.894967Z",
     "start_time": "2024-11-03T17:20:17.871977Z"
    }
   },
   "source": [
    "train_features, train_labels, *train_misc_labels = next(iter(train))\n",
    "print(f\"Feature batch shape: {train_features.size()}\")\n",
    "print(f\"Labels batch shape: {train_labels.size()}\")"
   ],
   "outputs": [
    {
     "name": "stdout",
     "output_type": "stream",
     "text": [
      "Feature batch shape: torch.Size([1, 100000, 39])\n",
      "Labels batch shape: torch.Size([1, 100000])\n"
     ]
    }
   ],
   "execution_count": 40
  },
  {
   "cell_type": "code",
   "id": "877947a94880eb8",
   "metadata": {
    "ExecuteTime": {
     "end_time": "2024-11-03T15:42:03.979732Z",
     "start_time": "2024-11-03T15:42:03.956358Z"
    }
   },
   "source": [
    "val_features, val_labels, *val_misc_labels = next(iter(val))\n",
    "print(f\"Feature batch shape: {val_features.size()}\")\n",
    "print(f\"Labels batch shape: {val_labels.size()}\")"
   ],
   "outputs": [
    {
     "name": "stdout",
     "output_type": "stream",
     "text": [
      "Feature batch shape: torch.Size([1, 100000, 39])\n",
      "Labels batch shape: torch.Size([1, 100000])\n"
     ]
    }
   ],
   "execution_count": 6
  },
  {
   "cell_type": "code",
   "id": "3416d42c8e7a401b",
   "metadata": {
    "ExecuteTime": {
     "end_time": "2024-11-03T15:42:04.030331Z",
     "start_time": "2024-11-03T15:42:04.006422Z"
    }
   },
   "source": [
    "test_features, test_labels, *test_misc_labels = next(iter(test))\n",
    "print(f\"Feature batch shape: {test_features.size()}\")\n",
    "print(f\"Labels batch shape: {test_labels.size()}\")"
   ],
   "outputs": [
    {
     "name": "stdout",
     "output_type": "stream",
     "text": [
      "Feature batch shape: torch.Size([1, 100000, 39])\n",
      "Labels batch shape: torch.Size([1, 100000])\n"
     ]
    }
   ],
   "execution_count": 7
  },
  {
   "metadata": {
    "ExecuteTime": {
     "end_time": "2024-11-03T15:42:04.061352Z",
     "start_time": "2024-11-03T15:42:04.057628Z"
    }
   },
   "cell_type": "code",
   "source": "train_features.squeeze().size(0)",
   "id": "8fafa5a7b065e3e1",
   "outputs": [
    {
     "data": {
      "text/plain": [
       "100000"
      ]
     },
     "execution_count": 8,
     "metadata": {},
     "output_type": "execute_result"
    }
   ],
   "execution_count": 8
  },
  {
   "metadata": {
    "ExecuteTime": {
     "end_time": "2024-11-03T15:42:04.118401Z",
     "start_time": "2024-11-03T15:42:04.107639Z"
    }
   },
   "cell_type": "code",
   "source": "train_features.squeeze().var(dim=1).shape",
   "id": "f36bd29d136e0028",
   "outputs": [
    {
     "data": {
      "text/plain": [
       "torch.Size([100000])"
      ]
     },
     "execution_count": 9,
     "metadata": {},
     "output_type": "execute_result"
    }
   ],
   "execution_count": 9
  },
  {
   "cell_type": "code",
   "id": "7e5915c228d11527",
   "metadata": {
    "ExecuteTime": {
     "end_time": "2024-11-03T15:42:04.156703Z",
     "start_time": "2024-11-03T15:42:04.154852Z"
    }
   },
   "source": [
    "# if __name__ == \"__main__\":\n",
    "#     for X, Y, *misc_labels in tqdm(train, total=len(train)):\n",
    "#         X = X.to(\"cuda\")\n",
    "#         continue\n",
    "#     for X, Y, *misc_labels in tqdm(val, total=len(val)):\n",
    "#         X = X.to(\"cuda\")\n",
    "#         continue\n",
    "#     for X, Y, *misc_labels in tqdm(test, total=len(test)):\n",
    "#         X = X.to(\"cuda\")\n",
    "#         continue"
   ],
   "outputs": [],
   "execution_count": 10
  },
  {
   "metadata": {
    "ExecuteTime": {
     "end_time": "2024-11-03T15:42:04.204285Z",
     "start_time": "2024-11-03T15:42:04.201222Z"
    }
   },
   "cell_type": "code",
   "source": "train.dataset.dataset",
   "id": "59f2dc5a1e4b135d",
   "outputs": [
    {
     "data": {
      "text/plain": [
       "<skripsi_code.utils.domain_dataset.MultiChunkParquet at 0x7effbd709f30>"
      ]
     },
     "execution_count": 11,
     "metadata": {},
     "output_type": "execute_result"
    }
   ],
   "execution_count": 11
  },
  {
   "metadata": {
    "ExecuteTime": {
     "end_time": "2024-11-03T15:42:04.699293Z",
     "start_time": "2024-11-03T15:42:04.250633Z"
    }
   },
   "cell_type": "code",
   "source": [
    "from skripsi_code.model.MoMLNIDS import MoMLDNIDS\n",
    "from torchsummary import summary\n",
    "x = torch.randn(1000, 39).to(\"cuda\")  # Batch of 5, input size of 20\n",
    "network = MoMLDNIDS(\n",
    "    input_nodes=x.size(dim=1), hidden_nodes=[64, 32, 16], num_domains=3, num_class=2\n",
    ").to(\"cuda\")\n",
    "print(network)\n",
    "print(network(x))\n",
    "summary(network, (x.size(dim=1),))\n"
   ],
   "id": "c3c8686e85b1d60a",
   "outputs": [
    {
     "name": "stdout",
     "output_type": "stream",
     "text": [
      "MoMLDNIDS(\n",
      "  (FeatureExtractorLayer): DGFeatExt(\n",
      "    (fc_modules): ModuleList(\n",
      "      (0): Sequential(\n",
      "        (0): Linear(in_features=39, out_features=64, bias=True)\n",
      "        (1): BatchNorm1d(64, eps=1e-05, momentum=0.1, affine=True, track_running_stats=True)\n",
      "        (2): ReLU()\n",
      "      )\n",
      "      (1): Sequential(\n",
      "        (0): Linear(in_features=64, out_features=32, bias=True)\n",
      "        (1): BatchNorm1d(32, eps=1e-05, momentum=0.1, affine=True, track_running_stats=True)\n",
      "        (2): ReLU()\n",
      "      )\n",
      "      (2): Sequential(\n",
      "        (0): Linear(in_features=32, out_features=16, bias=True)\n",
      "        (1): BatchNorm1d(16, eps=1e-05, momentum=0.1, affine=True, track_running_stats=True)\n",
      "        (2): ReLU()\n",
      "      )\n",
      "    )\n",
      "  )\n",
      "  (DomainClassifier): DomainDiscriminator(\n",
      "    (fc_modules): ModuleList(\n",
      "      (0): Sequential(\n",
      "        (0): Linear(in_features=16, out_features=64, bias=True)\n",
      "        (1): BatchNorm1d(64, eps=1e-05, momentum=0.1, affine=True, track_running_stats=True)\n",
      "        (2): ReLU()\n",
      "        (3): Dropout(p=0.2, inplace=False)\n",
      "      )\n",
      "      (1): Sequential(\n",
      "        (0): Linear(in_features=64, out_features=32, bias=True)\n",
      "        (1): BatchNorm1d(32, eps=1e-05, momentum=0.1, affine=True, track_running_stats=True)\n",
      "        (2): ReLU()\n",
      "        (3): Dropout(p=0.2, inplace=False)\n",
      "      )\n",
      "      (2): Sequential(\n",
      "        (0): Linear(in_features=32, out_features=16, bias=True)\n",
      "        (1): BatchNorm1d(16, eps=1e-05, momentum=0.1, affine=True, track_running_stats=True)\n",
      "        (2): ReLU()\n",
      "        (3): Dropout(p=0.2, inplace=False)\n",
      "      )\n",
      "    )\n",
      "    (output_layer): Sequential(\n",
      "      (0): Linear(in_features=16, out_features=3, bias=True)\n",
      "    )\n",
      "  )\n",
      "  (LabelClassifier): ClassifierANN(\n",
      "    (fc_modules): ModuleList(\n",
      "      (0): Sequential(\n",
      "        (0): Linear(in_features=16, out_features=64, bias=True)\n",
      "        (1): BatchNorm1d(64, eps=1e-05, momentum=0.1, affine=True, track_running_stats=True)\n",
      "        (2): ReLU()\n",
      "        (3): Dropout(p=0.2, inplace=False)\n",
      "      )\n",
      "      (1): Sequential(\n",
      "        (0): Linear(in_features=64, out_features=32, bias=True)\n",
      "        (1): BatchNorm1d(32, eps=1e-05, momentum=0.1, affine=True, track_running_stats=True)\n",
      "        (2): ReLU()\n",
      "        (3): Dropout(p=0.2, inplace=False)\n",
      "      )\n",
      "      (2): Sequential(\n",
      "        (0): Linear(in_features=32, out_features=16, bias=True)\n",
      "        (1): BatchNorm1d(16, eps=1e-05, momentum=0.1, affine=True, track_running_stats=True)\n",
      "        (2): ReLU()\n",
      "        (3): Dropout(p=0.2, inplace=False)\n",
      "      )\n",
      "    )\n",
      "    (output_layer): Sequential(\n",
      "      (0): Linear(in_features=16, out_features=2, bias=True)\n",
      "    )\n",
      "  )\n",
      ")\n",
      "(tensor([[ 0.3759,  0.1733],\n",
      "        [ 0.4003, -0.2224],\n",
      "        [ 0.5488,  0.3888],\n",
      "        ...,\n",
      "        [ 0.4833,  0.7282],\n",
      "        [ 0.1031,  0.6576],\n",
      "        [ 0.4216,  0.1672]], device='cuda:0', grad_fn=<AddmmBackward0>), tensor([[ 0.3910,  0.0455, -0.2090],\n",
      "        [-0.2043,  0.4883, -0.3599],\n",
      "        [-0.0841,  0.3308, -0.0775],\n",
      "        ...,\n",
      "        [ 0.0778, -0.4430,  0.4794],\n",
      "        [-0.3801,  0.5059, -0.2206],\n",
      "        [-0.1008,  0.3923, -0.3241]], device='cuda:0',\n",
      "       grad_fn=<AddmmBackward0>))\n",
      "----------------------------------------------------------------\n",
      "        Layer (type)               Output Shape         Param #\n",
      "================================================================\n",
      "            Linear-1                   [-1, 64]           2,560\n",
      "       BatchNorm1d-2                   [-1, 64]             128\n",
      "              ReLU-3                   [-1, 64]               0\n",
      "            Linear-4                   [-1, 32]           2,080\n",
      "       BatchNorm1d-5                   [-1, 32]              64\n",
      "              ReLU-6                   [-1, 32]               0\n",
      "            Linear-7                   [-1, 16]             528\n",
      "       BatchNorm1d-8                   [-1, 16]              32\n",
      "              ReLU-9                   [-1, 16]               0\n",
      "        DGFeatExt-10                   [-1, 16]               0\n",
      "           Linear-11                   [-1, 64]           1,088\n",
      "      BatchNorm1d-12                   [-1, 64]             128\n",
      "             ReLU-13                   [-1, 64]               0\n",
      "          Dropout-14                   [-1, 64]               0\n",
      "           Linear-15                   [-1, 32]           2,080\n",
      "      BatchNorm1d-16                   [-1, 32]              64\n",
      "             ReLU-17                   [-1, 32]               0\n",
      "          Dropout-18                   [-1, 32]               0\n",
      "           Linear-19                   [-1, 16]             528\n",
      "      BatchNorm1d-20                   [-1, 16]              32\n",
      "             ReLU-21                   [-1, 16]               0\n",
      "          Dropout-22                   [-1, 16]               0\n",
      "           Linear-23                    [-1, 2]              34\n",
      "    ClassifierANN-24                    [-1, 2]               0\n",
      "           Linear-25                   [-1, 64]           1,088\n",
      "      BatchNorm1d-26                   [-1, 64]             128\n",
      "             ReLU-27                   [-1, 64]               0\n",
      "          Dropout-28                   [-1, 64]               0\n",
      "           Linear-29                   [-1, 32]           2,080\n",
      "      BatchNorm1d-30                   [-1, 32]              64\n",
      "             ReLU-31                   [-1, 32]               0\n",
      "          Dropout-32                   [-1, 32]               0\n",
      "           Linear-33                   [-1, 16]             528\n",
      "      BatchNorm1d-34                   [-1, 16]              32\n",
      "             ReLU-35                   [-1, 16]               0\n",
      "          Dropout-36                   [-1, 16]               0\n",
      "           Linear-37                    [-1, 3]              51\n",
      "DomainDiscriminator-38                    [-1, 3]               0\n",
      "================================================================\n",
      "Total params: 13,317\n",
      "Trainable params: 13,317\n",
      "Non-trainable params: 0\n",
      "----------------------------------------------------------------\n",
      "Input size (MB): 0.00\n",
      "Forward/backward pass size (MB): 0.01\n",
      "Params size (MB): 0.05\n",
      "Estimated Total Size (MB): 0.06\n",
      "----------------------------------------------------------------\n"
     ]
    }
   ],
   "execution_count": 12
  },
  {
   "metadata": {
    "ExecuteTime": {
     "end_time": "2024-11-03T15:42:04.770244Z",
     "start_time": "2024-11-03T15:42:04.767496Z"
    }
   },
   "cell_type": "code",
   "source": "train.dataset.dataset.cluster_label",
   "id": "b0c5e2ef2638f485",
   "outputs": [
    {
     "data": {
      "text/plain": [
       "array([0, 0, 0, ..., 0, 0, 0])"
      ]
     },
     "execution_count": 13,
     "metadata": {},
     "output_type": "execute_result"
    }
   ],
   "execution_count": 13
  },
  {
   "metadata": {
    "ExecuteTime": {
     "end_time": "2024-11-03T15:42:47.869955Z",
     "start_time": "2024-11-03T15:42:04.816225Z"
    }
   },
   "cell_type": "code",
   "source": [
    "from skripsi_code.clustering.cluster_utils import pseudolabeling\n",
    "\n",
    "source_data = train.dataset.dataset\n",
    "pseudo_domain_label = pseudolabeling(\n",
    "    dataset=source_data,\n",
    "    model=network,\n",
    "    device='cuda',\n",
    "    previous_cluster=source_data.cluster_label,\n",
    "    log_file=\"clustering.log\",\n",
    "    epoch=1,\n",
    "    n_clusters=3,\n",
    "    method=\"MiniK\",\n",
    "    data_reduction=False,\n",
    "    reduced_dimentions=48,\n",
    "    batch_size=1\n",
    ")"
   ],
   "id": "118d4dec07cebda7",
   "outputs": [],
   "execution_count": 14
  },
  {
   "metadata": {
    "ExecuteTime": {
     "end_time": "2024-11-03T15:42:47.890831Z",
     "start_time": "2024-11-03T15:42:47.887632Z"
    }
   },
   "cell_type": "code",
   "source": "source_data.buffer[0][34244].select(pl.nth(range(4, 43)))\n",
   "id": "77eb3f9a30854543",
   "outputs": [
    {
     "data": {
      "text/plain": [
       "shape: (1, 39)\n",
       "┌──────────┬──────────┬──────────┬─────────┬───┬────────────┬────────────┬────────────┬────────────┐\n",
       "│ PROTOCOL ┆ L7_PROTO ┆ IN_BYTES ┆ IN_PKTS ┆ … ┆ DNS_QUERY_ ┆ DNS_QUERY_ ┆ DNS_TTL_AN ┆ FTP_COMMAN │\n",
       "│ ---      ┆ ---      ┆ ---      ┆ ---     ┆   ┆ ID         ┆ TYPE       ┆ SWER       ┆ D_RET_CODE │\n",
       "│ str      ┆ str      ┆ str      ┆ str     ┆   ┆ ---        ┆ ---        ┆ ---        ┆ ---        │\n",
       "│          ┆          ┆          ┆         ┆   ┆ str        ┆ str        ┆ str        ┆ str        │\n",
       "╞══════════╪══════════╪══════════╪═════════╪═══╪════════════╪════════════╪════════════╪════════════╡\n",
       "│ 1        ┆ 0.0      ┆ 8976     ┆ 102     ┆ … ┆ 0          ┆ 0          ┆ 0          ┆ 0          │\n",
       "└──────────┴──────────┴──────────┴─────────┴───┴────────────┴────────────┴────────────┴────────────┘"
      ],
      "text/html": [
       "<div><style>\n",
       ".dataframe > thead > tr,\n",
       ".dataframe > tbody > tr {\n",
       "  text-align: right;\n",
       "  white-space: pre-wrap;\n",
       "}\n",
       "</style>\n",
       "<small>shape: (1, 39)</small><table border=\"1\" class=\"dataframe\"><thead><tr><th>PROTOCOL</th><th>L7_PROTO</th><th>IN_BYTES</th><th>IN_PKTS</th><th>OUT_BYTES</th><th>OUT_PKTS</th><th>TCP_FLAGS</th><th>CLIENT_TCP_FLAGS</th><th>SERVER_TCP_FLAGS</th><th>FLOW_DURATION_MILLISECONDS</th><th>DURATION_IN</th><th>DURATION_OUT</th><th>MIN_TTL</th><th>MAX_TTL</th><th>LONGEST_FLOW_PKT</th><th>SHORTEST_FLOW_PKT</th><th>MIN_IP_PKT_LEN</th><th>MAX_IP_PKT_LEN</th><th>SRC_TO_DST_SECOND_BYTES</th><th>DST_TO_SRC_SECOND_BYTES</th><th>RETRANSMITTED_IN_BYTES</th><th>RETRANSMITTED_IN_PKTS</th><th>RETRANSMITTED_OUT_BYTES</th><th>RETRANSMITTED_OUT_PKTS</th><th>SRC_TO_DST_AVG_THROUGHPUT</th><th>DST_TO_SRC_AVG_THROUGHPUT</th><th>NUM_PKTS_UP_TO_128_BYTES</th><th>NUM_PKTS_128_TO_256_BYTES</th><th>NUM_PKTS_256_TO_512_BYTES</th><th>NUM_PKTS_512_TO_1024_BYTES</th><th>NUM_PKTS_1024_TO_1514_BYTES</th><th>TCP_WIN_MAX_IN</th><th>TCP_WIN_MAX_OUT</th><th>ICMP_TYPE</th><th>ICMP_IPV4_TYPE</th><th>DNS_QUERY_ID</th><th>DNS_QUERY_TYPE</th><th>DNS_TTL_ANSWER</th><th>FTP_COMMAND_RET_CODE</th></tr><tr><td>str</td><td>str</td><td>str</td><td>str</td><td>str</td><td>str</td><td>str</td><td>str</td><td>str</td><td>str</td><td>str</td><td>str</td><td>str</td><td>str</td><td>str</td><td>str</td><td>str</td><td>str</td><td>str</td><td>str</td><td>str</td><td>str</td><td>str</td><td>str</td><td>str</td><td>str</td><td>str</td><td>str</td><td>str</td><td>str</td><td>str</td><td>str</td><td>str</td><td>str</td><td>str</td><td>str</td><td>str</td><td>str</td><td>str</td></tr></thead><tbody><tr><td>&quot;1&quot;</td><td>&quot;0.0&quot;</td><td>&quot;8976&quot;</td><td>&quot;102&quot;</td><td>&quot;0&quot;</td><td>&quot;0&quot;</td><td>&quot;0&quot;</td><td>&quot;0&quot;</td><td>&quot;0&quot;</td><td>&quot;4193971&quot;</td><td>&quot;100996&quot;</td><td>&quot;0&quot;</td><td>&quot;64&quot;</td><td>&quot;64&quot;</td><td>&quot;88&quot;</td><td>&quot;88&quot;</td><td>&quot;0&quot;</td><td>&quot;88&quot;</td><td>&quot;8.888888888888893e+203&quot;</td><td>&quot;0.0&quot;</td><td>&quot;0&quot;</td><td>&quot;0&quot;</td><td>&quot;0&quot;</td><td>&quot;0&quot;</td><td>&quot;704000&quot;</td><td>&quot;0&quot;</td><td>&quot;102&quot;</td><td>&quot;0&quot;</td><td>&quot;0&quot;</td><td>&quot;0&quot;</td><td>&quot;0&quot;</td><td>&quot;0&quot;</td><td>&quot;0&quot;</td><td>&quot;771&quot;</td><td>&quot;3&quot;</td><td>&quot;0&quot;</td><td>&quot;0&quot;</td><td>&quot;0&quot;</td><td>&quot;0&quot;</td></tr></tbody></table></div>"
      ]
     },
     "execution_count": 15,
     "metadata": {},
     "output_type": "execute_result"
    }
   ],
   "execution_count": 15
  },
  {
   "metadata": {
    "ExecuteTime": {
     "end_time": "2024-11-03T15:42:47.948563Z",
     "start_time": "2024-11-03T15:42:47.943569Z"
    }
   },
   "cell_type": "code",
   "source": "torch.tensor(source_data.buffer[0][34244].select(pl.nth(range(4, 43))).with_columns(pl.col(\"*\").cast(pl.Float32)).to_numpy())",
   "id": "f71a2be1b5e02a3e",
   "outputs": [
    {
     "data": {
      "text/plain": [
       "tensor([[1.0000e+00, 0.0000e+00, 8.9760e+03, 1.0200e+02, 0.0000e+00, 0.0000e+00,\n",
       "         0.0000e+00, 0.0000e+00, 0.0000e+00, 4.1940e+06, 1.0100e+05, 0.0000e+00,\n",
       "         6.4000e+01, 6.4000e+01, 8.8000e+01, 8.8000e+01, 0.0000e+00, 8.8000e+01,\n",
       "                inf, 0.0000e+00, 0.0000e+00, 0.0000e+00, 0.0000e+00, 0.0000e+00,\n",
       "         7.0400e+05, 0.0000e+00, 1.0200e+02, 0.0000e+00, 0.0000e+00, 0.0000e+00,\n",
       "         0.0000e+00, 0.0000e+00, 0.0000e+00, 7.7100e+02, 3.0000e+00, 0.0000e+00,\n",
       "         0.0000e+00, 0.0000e+00, 0.0000e+00]])"
      ]
     },
     "execution_count": 16,
     "metadata": {},
     "output_type": "execute_result"
    }
   ],
   "execution_count": 16
  },
  {
   "metadata": {
    "ExecuteTime": {
     "end_time": "2024-11-03T15:42:48.094504Z",
     "start_time": "2024-11-03T15:42:48.075030Z"
    }
   },
   "cell_type": "code",
   "source": "source_data[0][0][34244]",
   "id": "53fbf952e4877e41",
   "outputs": [
    {
     "data": {
      "text/plain": [
       "tensor([1.0000e+00, 0.0000e+00, 8.9760e+03, 1.0200e+02, 0.0000e+00, 0.0000e+00,\n",
       "        0.0000e+00, 0.0000e+00, 0.0000e+00, 4.1940e+06, 1.0100e+05, 0.0000e+00,\n",
       "        6.4000e+01, 6.4000e+01, 8.8000e+01, 8.8000e+01, 0.0000e+00, 8.8000e+01,\n",
       "        1.0000e+05, 0.0000e+00, 0.0000e+00, 0.0000e+00, 0.0000e+00, 0.0000e+00,\n",
       "        7.0400e+05, 0.0000e+00, 1.0200e+02, 0.0000e+00, 0.0000e+00, 0.0000e+00,\n",
       "        0.0000e+00, 0.0000e+00, 0.0000e+00, 7.7100e+02, 3.0000e+00, 0.0000e+00,\n",
       "        0.0000e+00, 0.0000e+00, 0.0000e+00])"
      ]
     },
     "execution_count": 17,
     "metadata": {},
     "output_type": "execute_result"
    }
   ],
   "execution_count": 17
  },
  {
   "metadata": {
    "ExecuteTime": {
     "end_time": "2024-11-03T15:42:48.239175Z",
     "start_time": "2024-11-03T15:42:48.117574Z"
    }
   },
   "cell_type": "code",
   "source": [
    "import numpy as np\n",
    "stats = np.load(\"statistics.npy\")"
   ],
   "id": "8e55a98da935e6d4",
   "outputs": [],
   "execution_count": 18
  },
  {
   "metadata": {
    "ExecuteTime": {
     "end_time": "2024-11-03T15:42:48.825665Z",
     "start_time": "2024-11-03T15:42:48.471096Z"
    }
   },
   "cell_type": "code",
   "source": "np.unique(np.where(np.isnan(stats))[0])[:10]",
   "id": "180a2169dd2b8fb9",
   "outputs": [
    {
     "data": {
      "text/plain": [
       "array([ 34244,  94479, 107979, 178470, 209632, 212530, 344103, 379134,\n",
       "       473575, 579339])"
      ]
     },
     "execution_count": 19,
     "metadata": {},
     "output_type": "execute_result"
    }
   ],
   "execution_count": 19
  },
  {
   "metadata": {
    "ExecuteTime": {
     "end_time": "2024-11-03T15:42:49.241705Z",
     "start_time": "2024-11-03T15:42:48.830012Z"
    }
   },
   "cell_type": "code",
   "source": "len(np.unique(np.where(np.isnan(stats))[0]))",
   "id": "2199f2a87d5ba7b9",
   "outputs": [
    {
     "data": {
      "text/plain": [
       "383"
      ]
     },
     "execution_count": 20,
     "metadata": {},
     "output_type": "execute_result"
    }
   ],
   "execution_count": 20
  },
  {
   "metadata": {
    "ExecuteTime": {
     "end_time": "2024-11-03T15:42:49.359903Z",
     "start_time": "2024-11-03T15:42:49.251786Z"
    }
   },
   "cell_type": "code",
   "source": "np.isnan(stats).sum()",
   "id": "255ea791b91236e3",
   "outputs": [
    {
     "data": {
      "text/plain": [
       "np.int64(1532)"
      ]
     },
     "execution_count": 21,
     "metadata": {},
     "output_type": "execute_result"
    }
   ],
   "execution_count": 21
  },
  {
   "metadata": {
    "ExecuteTime": {
     "end_time": "2024-11-03T15:42:49.369854Z",
     "start_time": "2024-11-03T15:42:49.367771Z"
    }
   },
   "cell_type": "code",
   "source": "source_data.parquet_files[89]",
   "id": "3a80d0b08e94da77",
   "outputs": [
    {
     "data": {
      "text/plain": [
       "'../data/parquet//NF-CSE-CIC-IDS2018-v2/NF-CSE-CIC-IDS2018-v2_chunk_180.parquet'"
      ]
     },
     "execution_count": 22,
     "metadata": {},
     "output_type": "execute_result"
    }
   ],
   "execution_count": 22
  },
  {
   "metadata": {
    "ExecuteTime": {
     "end_time": "2024-11-03T15:42:49.756723Z",
     "start_time": "2024-11-03T15:42:49.410176Z"
    }
   },
   "cell_type": "code",
   "source": [
    "for i in tqdm(range(len(val.dataset))):\n",
    "    try:\n",
    "        val.dataset[i]\n",
    "    except Exception as e:\n",
    "        print(f\"Error on {i}\")\n",
    "    else:\n",
    "        continue\n",
    "        "
   ],
   "id": "e7d71c176464d540",
   "outputs": [
    {
     "name": "stderr",
     "output_type": "stream",
     "text": [
      "100%|██████████| 19/19 [00:00<00:00, 55.43it/s]\n"
     ]
    }
   ],
   "execution_count": 23
  },
  {
   "metadata": {
    "ExecuteTime": {
     "end_time": "2024-11-03T16:36:06.014719Z",
     "start_time": "2024-11-03T16:36:06.007124Z"
    }
   },
   "cell_type": "code",
   "source": "source_data.length",
   "id": "260fdf5e0a494079",
   "outputs": [
    {
     "data": {
      "text/plain": [
       "38124479"
      ]
     },
     "execution_count": 25,
     "metadata": {},
     "output_type": "execute_result"
    }
   ],
   "execution_count": 25
  },
  {
   "metadata": {},
   "cell_type": "markdown",
   "source": "# Test Training ",
   "id": "2137831b0e83e610"
  },
  {
   "metadata": {
    "ExecuteTime": {
     "end_time": "2024-11-03T16:37:04.654254Z",
     "start_time": "2024-11-03T16:37:04.649021Z"
    }
   },
   "cell_type": "code",
   "source": "from skripsi_code.TrainEval.TrainEval import train, eval",
   "id": "62fa6f844a2ffc53",
   "outputs": [],
   "execution_count": 35
  },
  {
   "metadata": {},
   "cell_type": "code",
   "outputs": [],
   "execution_count": null,
   "source": [
    " model, optimizers = train(\n",
    "            model=model,\n",
    "            train_data=source_train,\n",
    "            optimizers=optimizers,\n",
    "            device=device,\n",
    "            epoch=epoch,\n",
    "            num_epoch=NUM_EPOCH,\n",
    "            filename=SAVE_PATH / \"source_trained.log\",\n",
    "            disc_weight=DISCRIMINATOR_LOSS_WEIGHT,\n",
    "            entropy_weight=ENTROPY_WEIGHT,\n",
    "            grl_weight=GRL_WEIGHT,\n",
    "        )"
   ],
   "id": "ada319d070b4c3e7"
  },
  {
   "metadata": {},
   "cell_type": "code",
   "outputs": [],
   "execution_count": null,
   "source": "tra",
   "id": "5c2d83d944a5ba85"
  },
  {
   "metadata": {
    "ExecuteTime": {
     "end_time": "2024-11-03T17:43:15.779461Z",
     "start_time": "2024-11-03T17:43:15.773750Z"
    }
   },
   "cell_type": "code",
   "source": [
    "import torch\n",
    "import torch.nn as nn\n",
    "\n",
    "# Dummy predictions and labels\n",
    "preds = torch.tensor([[2.0, 1.0, 0.1], [1.0, 3.0, 0.1]])  # Logits for 2 samples and 3 classes\n",
    "labels = torch.tensor([0, 1])  # True labels for each sample\n",
    "\n",
    "# CrossEntropyLoss with mean reduction (default)\n",
    "criterion = nn.CrossEntropyLoss(reduction='mean')\n",
    "loss = criterion(preds, labels)\n",
    "print(loss)  # Single scalar value, mean of individual losses\n"
   ],
   "id": "f8e8fcce7c88bcd7",
   "outputs": [
    {
     "name": "stdout",
     "output_type": "stream",
     "text": [
      "tensor(0.2956)\n"
     ]
    }
   ],
   "execution_count": 46
  },
  {
   "metadata": {
    "ExecuteTime": {
     "end_time": "2024-11-03T17:44:13.114115Z",
     "start_time": "2024-11-03T17:44:13.110796Z"
    }
   },
   "cell_type": "code",
   "source": [
    "preds = torch.tensor([[0.0599, 0.0290],[0.0574, 0.0215], [0.0351, 0.0483]])\n",
    "labels = torch.tensor([0, 0, 0])\n",
    "\n",
    "criterion = nn.CrossEntropyLoss(reduction='mean')\n",
    "loss = criterion(preds, labels)\n",
    "print(loss)  # Single scalar value, mean of individual losses\n"
   ],
   "id": "5b60f0aa09527a4e",
   "outputs": [
    {
     "name": "stdout",
     "output_type": "stream",
     "text": [
      "tensor(0.6843)\n"
     ]
    }
   ],
   "execution_count": 49
  },
  {
   "metadata": {
    "ExecuteTime": {
     "end_time": "2024-11-03T18:21:00.174527Z",
     "start_time": "2024-11-03T18:21:00.166360Z"
    }
   },
   "cell_type": "code",
   "source": [
    "from skripsi_code.utils.utils import get_model_learning_rate, get_optimizer\n",
    "\n",
    "from skripsi_code.model.MoMLNIDS import MoMLDNIDS\n"
   ],
   "id": "8fe6c1bb9ae243bc",
   "outputs": [],
   "execution_count": 52
  },
  {
   "metadata": {
    "ExecuteTime": {
     "end_time": "2024-11-03T18:20:32.772011Z",
     "start_time": "2024-11-03T18:20:32.737173Z"
    }
   },
   "cell_type": "code",
   "source": [
    "x = torch.randn(1000, 43).to(\"cuda\")  # Batch of 5, input size of 20\n",
    "network = MoMLDNIDS(\n",
    "    input_nodes=x.size(dim=1), hidden_nodes=[64, 32, 16], num_domains=3, num_class=2\n",
    ").to(\"cuda\")\n",
    "print(network)\n",
    "print(network(x))\n",
    "summary(network, (x.size(dim=1),))\n"
   ],
   "id": "4aae7242610e27c6",
   "outputs": [
    {
     "name": "stdout",
     "output_type": "stream",
     "text": [
      "MoMLDNIDS(\n",
      "  (FeatureExtractorLayer): DGFeatExt(\n",
      "    (fc_modules): ModuleList(\n",
      "      (0): Sequential(\n",
      "        (0): Linear(in_features=43, out_features=64, bias=True)\n",
      "        (1): BatchNorm1d(64, eps=1e-05, momentum=0.1, affine=True, track_running_stats=True)\n",
      "        (2): ReLU()\n",
      "      )\n",
      "      (1): Sequential(\n",
      "        (0): Linear(in_features=64, out_features=32, bias=True)\n",
      "        (1): BatchNorm1d(32, eps=1e-05, momentum=0.1, affine=True, track_running_stats=True)\n",
      "        (2): ReLU()\n",
      "      )\n",
      "      (2): Sequential(\n",
      "        (0): Linear(in_features=32, out_features=16, bias=True)\n",
      "        (1): BatchNorm1d(16, eps=1e-05, momentum=0.1, affine=True, track_running_stats=True)\n",
      "        (2): ReLU()\n",
      "      )\n",
      "    )\n",
      "  )\n",
      "  (DomainClassifier): DomainDiscriminator(\n",
      "    (fc_modules): ModuleList(\n",
      "      (0): Sequential(\n",
      "        (0): Linear(in_features=16, out_features=64, bias=True)\n",
      "        (1): BatchNorm1d(64, eps=1e-05, momentum=0.1, affine=True, track_running_stats=True)\n",
      "        (2): ReLU()\n",
      "        (3): Dropout(p=0.2, inplace=False)\n",
      "      )\n",
      "      (1): Sequential(\n",
      "        (0): Linear(in_features=64, out_features=32, bias=True)\n",
      "        (1): BatchNorm1d(32, eps=1e-05, momentum=0.1, affine=True, track_running_stats=True)\n",
      "        (2): ReLU()\n",
      "        (3): Dropout(p=0.2, inplace=False)\n",
      "      )\n",
      "      (2): Sequential(\n",
      "        (0): Linear(in_features=32, out_features=16, bias=True)\n",
      "        (1): BatchNorm1d(16, eps=1e-05, momentum=0.1, affine=True, track_running_stats=True)\n",
      "        (2): ReLU()\n",
      "        (3): Dropout(p=0.2, inplace=False)\n",
      "      )\n",
      "    )\n",
      "    (output_layer): Sequential(\n",
      "      (0): Linear(in_features=16, out_features=3, bias=True)\n",
      "    )\n",
      "  )\n",
      "  (LabelClassifier): ClassifierANN(\n",
      "    (fc_modules): ModuleList(\n",
      "      (0): Sequential(\n",
      "        (0): Linear(in_features=16, out_features=64, bias=True)\n",
      "        (1): BatchNorm1d(64, eps=1e-05, momentum=0.1, affine=True, track_running_stats=True)\n",
      "        (2): ReLU()\n",
      "        (3): Dropout(p=0.2, inplace=False)\n",
      "      )\n",
      "      (1): Sequential(\n",
      "        (0): Linear(in_features=64, out_features=32, bias=True)\n",
      "        (1): BatchNorm1d(32, eps=1e-05, momentum=0.1, affine=True, track_running_stats=True)\n",
      "        (2): ReLU()\n",
      "        (3): Dropout(p=0.2, inplace=False)\n",
      "      )\n",
      "      (2): Sequential(\n",
      "        (0): Linear(in_features=32, out_features=16, bias=True)\n",
      "        (1): BatchNorm1d(16, eps=1e-05, momentum=0.1, affine=True, track_running_stats=True)\n",
      "        (2): ReLU()\n",
      "        (3): Dropout(p=0.2, inplace=False)\n",
      "      )\n",
      "    )\n",
      "    (output_layer): Sequential(\n",
      "      (0): Linear(in_features=16, out_features=2, bias=True)\n",
      "    )\n",
      "  )\n",
      ")\n",
      "(tensor([[ 0.5304, -0.1931],\n",
      "        [ 0.9747,  0.3914],\n",
      "        [ 0.1100, -0.0014],\n",
      "        ...,\n",
      "        [-0.4529, -0.3392],\n",
      "        [ 0.2875, -0.2036],\n",
      "        [ 0.2422,  0.3832]], device='cuda:0', grad_fn=<AddmmBackward0>), tensor([[-0.3476,  0.4269, -0.7726],\n",
      "        [ 0.3082,  0.5545, -0.4331],\n",
      "        [ 0.5748,  0.1271, -0.2738],\n",
      "        ...,\n",
      "        [ 0.7532, -0.0268, -0.1201],\n",
      "        [ 0.1959,  0.2895, -0.5967],\n",
      "        [ 0.8306,  0.1329, -0.5303]], device='cuda:0',\n",
      "       grad_fn=<AddmmBackward0>))\n",
      "----------------------------------------------------------------\n",
      "        Layer (type)               Output Shape         Param #\n",
      "================================================================\n",
      "            Linear-1                   [-1, 64]           2,816\n",
      "       BatchNorm1d-2                   [-1, 64]             128\n",
      "              ReLU-3                   [-1, 64]               0\n",
      "            Linear-4                   [-1, 32]           2,080\n",
      "       BatchNorm1d-5                   [-1, 32]              64\n",
      "              ReLU-6                   [-1, 32]               0\n",
      "            Linear-7                   [-1, 16]             528\n",
      "       BatchNorm1d-8                   [-1, 16]              32\n",
      "              ReLU-9                   [-1, 16]               0\n",
      "        DGFeatExt-10                   [-1, 16]               0\n",
      "           Linear-11                   [-1, 64]           1,088\n",
      "      BatchNorm1d-12                   [-1, 64]             128\n",
      "             ReLU-13                   [-1, 64]               0\n",
      "          Dropout-14                   [-1, 64]               0\n",
      "           Linear-15                   [-1, 32]           2,080\n",
      "      BatchNorm1d-16                   [-1, 32]              64\n",
      "             ReLU-17                   [-1, 32]               0\n",
      "          Dropout-18                   [-1, 32]               0\n",
      "           Linear-19                   [-1, 16]             528\n",
      "      BatchNorm1d-20                   [-1, 16]              32\n",
      "             ReLU-21                   [-1, 16]               0\n",
      "          Dropout-22                   [-1, 16]               0\n",
      "           Linear-23                    [-1, 2]              34\n",
      "    ClassifierANN-24                    [-1, 2]               0\n",
      "           Linear-25                   [-1, 64]           1,088\n",
      "      BatchNorm1d-26                   [-1, 64]             128\n",
      "             ReLU-27                   [-1, 64]               0\n",
      "          Dropout-28                   [-1, 64]               0\n",
      "           Linear-29                   [-1, 32]           2,080\n",
      "      BatchNorm1d-30                   [-1, 32]              64\n",
      "             ReLU-31                   [-1, 32]               0\n",
      "          Dropout-32                   [-1, 32]               0\n",
      "           Linear-33                   [-1, 16]             528\n",
      "      BatchNorm1d-34                   [-1, 16]              32\n",
      "             ReLU-35                   [-1, 16]               0\n",
      "          Dropout-36                   [-1, 16]               0\n",
      "           Linear-37                    [-1, 3]              51\n",
      "DomainDiscriminator-38                    [-1, 3]               0\n",
      "================================================================\n",
      "Total params: 13,573\n",
      "Trainable params: 13,573\n",
      "Non-trainable params: 0\n",
      "----------------------------------------------------------------\n",
      "Input size (MB): 0.00\n",
      "Forward/backward pass size (MB): 0.01\n",
      "Params size (MB): 0.05\n",
      "Estimated Total Size (MB): 0.06\n",
      "----------------------------------------------------------------\n"
     ]
    }
   ],
   "execution_count": 50
  },
  {
   "metadata": {
    "ExecuteTime": {
     "end_time": "2024-11-03T18:21:24.199150Z",
     "start_time": "2024-11-03T18:21:24.194351Z"
    }
   },
   "cell_type": "code",
   "source": "mlr = get_model_learning_rate(network, 1, 1)",
   "id": "9ec660a67dbd4637",
   "outputs": [],
   "execution_count": 55
  },
  {
   "metadata": {
    "ExecuteTime": {
     "end_time": "2024-11-03T18:22:13.112948Z",
     "start_time": "2024-11-03T18:22:12.152156Z"
    }
   },
   "cell_type": "code",
   "source": [
    "optimizers = [\n",
    "        get_optimizer(\n",
    "            model_module,\n",
    "            0.001 * alpha,\n",
    "            weight_decay=5e-4,\n",
    "            amsgrad=True,\n",
    "        )\n",
    "        for model_module, alpha in mlr\n",
    "    ]"
   ],
   "id": "92033f9a582a311d",
   "outputs": [],
   "execution_count": 56
  },
  {
   "metadata": {
    "ExecuteTime": {
     "end_time": "2024-11-03T18:25:07.373577Z",
     "start_time": "2024-11-03T18:25:07.366774Z"
    }
   },
   "cell_type": "code",
   "source": "optimizers",
   "id": "f22a6f937a4fe283",
   "outputs": [
    {
     "data": {
      "text/plain": [
       "[AdamW (\n",
       " Parameter Group 0\n",
       "     amsgrad: True\n",
       "     betas: (0.9, 0.999)\n",
       "     capturable: False\n",
       "     differentiable: False\n",
       "     eps: 1e-08\n",
       "     foreach: None\n",
       "     fused: None\n",
       "     lr: 0.001\n",
       "     maximize: False\n",
       "     weight_decay: 0.0005\n",
       " ),\n",
       " AdamW (\n",
       " Parameter Group 0\n",
       "     amsgrad: True\n",
       "     betas: (0.9, 0.999)\n",
       "     capturable: False\n",
       "     differentiable: False\n",
       "     eps: 1e-08\n",
       "     foreach: None\n",
       "     fused: None\n",
       "     lr: 0.001\n",
       "     maximize: False\n",
       "     weight_decay: 0.0005\n",
       " ),\n",
       " AdamW (\n",
       " Parameter Group 0\n",
       "     amsgrad: True\n",
       "     betas: (0.9, 0.999)\n",
       "     capturable: False\n",
       "     differentiable: False\n",
       "     eps: 1e-08\n",
       "     foreach: None\n",
       "     fused: None\n",
       "     lr: 0.001\n",
       "     maximize: False\n",
       "     weight_decay: 0.0005\n",
       " )]"
      ]
     },
     "execution_count": 60,
     "metadata": {},
     "output_type": "execute_result"
    }
   ],
   "execution_count": 60
  }
 ],
 "metadata": {
  "kernelspec": {
   "display_name": "Python 3",
   "language": "python",
   "name": "python3"
  },
  "language_info": {
   "codemirror_mode": {
    "name": "ipython",
    "version": 2
   },
   "file_extension": ".py",
   "mimetype": "text/x-python",
   "name": "python",
   "nbconvert_exporter": "python",
   "pygments_lexer": "ipython2",
   "version": "2.7.6"
  }
 },
 "nbformat": 4,
 "nbformat_minor": 5
}
